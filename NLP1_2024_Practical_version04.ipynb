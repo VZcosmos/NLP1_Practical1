{
  "cells": [
    {
      "cell_type": "markdown",
      "metadata": {
        "id": "1-aRiOgl4nHg"
      },
      "source": [
        "------\n",
        "**You cannot save any changes you make to this file, so please make sure to save it on your Google Colab drive or download it as a .ipynb file.**\n",
        "\n",
        "------\n",
        "\n"
      ]
    },
    {
      "cell_type": "markdown",
      "metadata": {
        "id": "lIZrAUx57vsM"
      },
      "source": [
        "Practical 1: Sentiment Detection in Movie Reviews\n",
        "========================================\n",
        "\n"
      ]
    },
    {
      "cell_type": "markdown",
      "metadata": {
        "id": "J4kXPMhyngZW"
      },
      "source": [
        "This practical concerns detecting sentiment in movie reviews. This is a typical NLP classification task.\n",
        "In [this file](https://gist.githubusercontent.com/bastings/d47423301cca214e3930061a5a75e177/raw/5113687382919e22b1f09ce71a8fecd1687a5760/reviews.json) (80MB) you will find 1000 positive and 1000 negative **movie reviews**.\n",
        "Each review is a **document** and consists of one or more sentences.\n",
        "\n",
        "To prepare yourself for this practical, you should\n",
        "have a look at a few of these texts to understand the difficulties of\n",
        "the task: how might one go about classifying the texts? You will write\n",
        "code that decides whether a movie review conveys positive or\n",
        "negative sentiment.\n",
        "\n",
        "Please make sure you have read the following paper:\n",
        "\n",
        ">   Bo Pang, Lillian Lee, and Shivakumar Vaithyanathan\n",
        "(2002).\n",
        "[Thumbs up? Sentiment Classification using Machine Learning\n",
        "Techniques](https://dl.acm.org/citation.cfm?id=1118704). EMNLP.\n",
        "\n",
        "Bo Pang et al. introduced the movie review sentiment\n",
        "classification task, and the above paper was one of the first papers on\n",
        "the topic. The first version of your sentiment classifier will do\n",
        "something similar to Pang et al.'s system. If you have questions about it,\n",
        "you should resolve you doubts as soon as possible with your TA.\n"
      ]
    },
    {
      "cell_type": "markdown",
      "metadata": {
        "id": "cb7errgRASzZ"
      },
      "source": [
        "**Advice**\n",
        "\n",
        "Please read through the entire practical and familiarise\n",
        "yourself with all requirements before you start coding or otherwise\n",
        "solving the tasks. Writing clean and concise code can make the difference\n",
        "between solving the assignment in a matter of hours, and taking days to\n",
        "run all experiments.\n",
        "\n",
        "\n",
        "**Implementation**\n",
        "\n",
        "While we inserted code cells to indicate where you should implement your own code, please feel free to add/remove code blocks where you see fit (but make sure that the general structure of the assignment is preserved). Also, please keep in mind that it is always good practice to structure your code properly, e.g., by implementing separate classes and functions that can be reused. **Make sure you run all your code before submitting the notebook, and do not leave unnecessary print statements / cells in your notebook that are not intended for the grader.**\n",
        "\n",
        "## Environment\n",
        "\n",
        "All code should be written in **Python 3**.\n",
        "This is the default in Google Colab."
      ]
    },
    {
      "cell_type": "code",
      "execution_count": 1,
      "metadata": {
        "colab": {
          "base_uri": "https://localhost:8080/"
        },
        "id": "SaZnxptMJiD7",
        "outputId": "e91e5e58-7974-4154-c54d-edb488809dce"
      },
      "outputs": [
        {
          "output_type": "stream",
          "name": "stdout",
          "text": [
            "Python 3.10.12\n"
          ]
        }
      ],
      "source": [
        "!python --version"
      ]
    },
    {
      "cell_type": "markdown",
      "metadata": {
        "id": "BYZyIF7lJnGn"
      },
      "source": [
        "If you want to run code on your own computer, then download this notebook through `File -> Download .ipynb`.\n",
        "The easiest way to\n",
        "install Python is through downloading\n",
        "[Anaconda](https://www.anaconda.com/download).\n",
        "After installation, you can start the notebook by typing `jupyter notebook filename.ipynb`.\n",
        "You can also use an IDE\n",
        "such as [PyCharm](https://www.jetbrains.com/pycharm/download/) to make\n",
        "coding and debugging easier. It is good practice to create a [virtual\n",
        "environment](https://docs.python.org/3/tutorial/venv.html) for this\n",
        "project, so that any Python packages don’t interfere with other\n",
        "projects.\n",
        "\n",
        "\n",
        "**Learning Python 3**\n",
        "\n",
        "If you are new to Python 3, you may want to check out a few of these resources:\n",
        "- https://learnxinyminutes.com/docs/python3/\n",
        "- https://www.learnpython.org/\n",
        "- https://docs.python.org/3/tutorial/"
      ]
    },
    {
      "cell_type": "code",
      "execution_count": 2,
      "metadata": {
        "id": "hok-BFu9lGoK"
      },
      "outputs": [],
      "source": [
        "import math\n",
        "import os\n",
        "import sys\n",
        "from subprocess import call\n",
        "from nltk import FreqDist\n",
        "from nltk.util import ngrams\n",
        "from nltk.stem.porter import PorterStemmer\n",
        "import sklearn as sk\n",
        "from google.colab import drive\n",
        "import pickle\n",
        "import json\n",
        "from collections import Counter, defaultdict\n",
        "import requests\n",
        "import matplotlib.pyplot as plt\n",
        "import numpy as np\n",
        "from nltk.stem import *\n",
        "from nltk.stem.porter import *\n",
        "from nltk import ngrams"
      ]
    },
    {
      "cell_type": "markdown",
      "metadata": {
        "id": "bXWyGHwE-ieQ"
      },
      "source": [
        "## Loading the data\n",
        "\n",
        "**Download the sentiment lexicon and the movie reviews dataset.**"
      ]
    },
    {
      "cell_type": "code",
      "execution_count": 3,
      "metadata": {
        "colab": {
          "base_uri": "https://localhost:8080/"
        },
        "id": "lm-rakqtlMOT",
        "outputId": "8db2074e-ef2f-42e0-d567-7b859f92c600"
      },
      "outputs": [
        {
          "output_type": "stream",
          "name": "stdout",
          "text": [
            "--2024-11-13 08:51:20--  https://gist.githubusercontent.com/bastings/d6f99dcb6c82231b94b013031356ba05/raw/f80a0281eba8621b122012c89c8b5e2200b39fd6/sent_lexicon\n",
            "Resolving gist.githubusercontent.com (gist.githubusercontent.com)... 185.199.108.133, 185.199.109.133, 185.199.110.133, ...\n",
            "Connecting to gist.githubusercontent.com (gist.githubusercontent.com)|185.199.108.133|:443... connected.\n",
            "HTTP request sent, awaiting response... 200 OK\n",
            "Length: 662577 (647K) [text/plain]\n",
            "Saving to: ‘sent_lexicon’\n",
            "\n",
            "sent_lexicon        100%[===================>] 647.05K  --.-KB/s    in 0.04s   \n",
            "\n",
            "2024-11-13 08:51:20 (17.7 MB/s) - ‘sent_lexicon’ saved [662577/662577]\n",
            "\n",
            "--2024-11-13 08:51:20--  https://gist.githubusercontent.com/bastings/d47423301cca214e3930061a5a75e177/raw/5113687382919e22b1f09ce71a8fecd1687a5760/reviews.json\n",
            "Resolving gist.githubusercontent.com (gist.githubusercontent.com)... 185.199.108.133, 185.199.109.133, 185.199.110.133, ...\n",
            "Connecting to gist.githubusercontent.com (gist.githubusercontent.com)|185.199.108.133|:443... connected.\n",
            "HTTP request sent, awaiting response... 200 OK\n",
            "Length: 83503869 (80M) [text/plain]\n",
            "Saving to: ‘reviews.json’\n",
            "\n",
            "reviews.json        100%[===================>]  79.63M   320MB/s    in 0.2s    \n",
            "\n",
            "2024-11-13 08:51:22 (320 MB/s) - ‘reviews.json’ saved [83503869/83503869]\n",
            "\n"
          ]
        }
      ],
      "source": [
        "# download sentiment lexicon\n",
        "!wget https://gist.githubusercontent.com/bastings/d6f99dcb6c82231b94b013031356ba05/raw/f80a0281eba8621b122012c89c8b5e2200b39fd6/sent_lexicon\n",
        "# download review data\n",
        "!wget https://gist.githubusercontent.com/bastings/d47423301cca214e3930061a5a75e177/raw/5113687382919e22b1f09ce71a8fecd1687a5760/reviews.json"
      ]
    },
    {
      "cell_type": "markdown",
      "metadata": {
        "id": "AkPwuHp5LSuQ"
      },
      "source": [
        "**Load the movie reviews.**\n",
        "\n",
        "Each word in a review comes with its part-of-speech tag. For documentation on POS-tags, see https://catalog.ldc.upenn.edu/docs/LDC99T42/tagguid1.pdf.\n"
      ]
    },
    {
      "cell_type": "code",
      "execution_count": 4,
      "metadata": {
        "colab": {
          "base_uri": "https://localhost:8080/"
        },
        "id": "careEKj-mRpl",
        "outputId": "1020f451-1607-4318-e5f5-8963a09d66dd"
      },
      "outputs": [
        {
          "output_type": "stream",
          "name": "stdout",
          "text": [
            "Total number of reviews: 2000 \n",
            "\n",
            "0 NEG 29\n",
            "Two/CD teen/JJ couples/NNS go/VBP to/TO a/DT church/NN party/NN ,/, drink/NN and/CC then/RB drive/NN ./.\n",
            "1 NEG 11\n",
            "Damn/JJ that/IN Y2K/CD bug/NN ./.\n",
            "2 NEG 24\n",
            "It/PRP is/VBZ movies/NNS like/IN these/DT that/WDT make/VBP a/DT jaded/JJ movie/NN viewer/NN thankful/JJ for/IN the/DT invention/NN of/IN the/DT Timex/NNP IndiGlo/NNP watch/NN ./.\n",
            "3 NEG 19\n",
            "QUEST/NN FOR/IN CAMELOT/NNP ``/`` Quest/NNP for/IN Camelot/NNP ''/'' is/VBZ Warner/NNP Bros./NNP '/POS first/JJ feature-length/JJ ,/, fully-animated/JJ attempt/NN to/TO steal/VB clout/NN from/IN Disney/NNP 's/POS cartoon/NN empire/NN ,/, but/CC the/DT mouse/NN has/VBZ no/DT reason/NN to/TO be/VB worried/VBN ./.\n",
            "4 NEG 38\n",
            "Synopsis/NNPS :/: A/DT mentally/RB unstable/JJ man/NN undergoing/VBG psychotherapy/NN saves/VBZ a/DT boy/NN from/IN a/DT potentially/RB fatal/JJ accident/NN and/CC then/RB falls/VBZ in/IN love/NN with/IN the/DT boy/NN 's/POS mother/NN ,/, a/DT fledgling/NN restauranteur/NN ./.\n",
            "{'-RRB-', 'PRP$', 'JJS', 'WRB', 'WP', '-LRB-', 'IN', 'MD', 'VBZ', '#', 'UH', ':', 'RP', 'DT', 'VBG', 'WP$', 'RB', 'VB', 'RBS', '$', 'NNPS', 'TO', 'WDT', 'CC', 'JJ', 'CD', 'NN', 'PRP', 'VBP', 'JJR', ',', '.', 'NNP', 'RBR', 'PDT', 'EX', 'LS', 'SYM', 'NNS', \"''\", '``', 'VBN', 'FW', 'VBD', 'POS'}\n",
            "\n",
            "Number of word types: 47743\n",
            "Number of word tokens: 1512359\n",
            "\n",
            "Most common tokens:\n",
            "         , :    77842\n",
            "       the :    75948\n",
            "         . :    59027\n",
            "         a :    37583\n",
            "       and :    35235\n",
            "        of :    33864\n",
            "        to :    31601\n",
            "        is :    25972\n",
            "        in :    21563\n",
            "        's :    18043\n",
            "        it :    15904\n",
            "      that :    15820\n",
            "     -rrb- :    11768\n",
            "     -lrb- :    11670\n",
            "        as :    11312\n",
            "      with :    10739\n",
            "       for :     9816\n",
            "       his :     9542\n",
            "      this :     9497\n",
            "      film :     9404\n"
          ]
        }
      ],
      "source": [
        "# file structure:\n",
        "# [\n",
        "#  {\"cv\": integer, \"sentiment\": str, \"content\": list}\n",
        "#  {\"cv\": integer, \"sentiment\": str, \"content\": list}\n",
        "#   ..\n",
        "# ]\n",
        "# where `content` is a list of sentences,\n",
        "# with a sentence being a list of (token, pos_tag) pairs.\n",
        "\n",
        "\n",
        "with open(\"reviews.json\", mode=\"r\", encoding=\"utf-8\") as f:\n",
        "  reviews = json.load(f)\n",
        "\n",
        "print(\"Total number of reviews:\", len(reviews), '\\n')\n",
        "\n",
        "def print_sentence_with_pos(s):\n",
        "  print(\" \".join(\"%s/%s\" % (token, pos_tag) for token, pos_tag in s))\n",
        "\n",
        "for i, r in enumerate(reviews):\n",
        "  print(r[\"cv\"], r[\"sentiment\"], len(r[\"content\"]))  # cv, sentiment, num sents\n",
        "  print_sentence_with_pos(r[\"content\"][0])\n",
        "  if i == 4:\n",
        "    break\n",
        "\n",
        "pos_tags = set()\n",
        "c = Counter()\n",
        "for review in reviews:\n",
        "  for sentence in review[\"content\"]:\n",
        "    for token, pos_tag in sentence:\n",
        "      c[token.lower()] += 1\n",
        "      pos_tags.add(pos_tag)\n",
        "print(pos_tags)\n",
        "\n",
        "print(\"\\nNumber of word types:\", len(c))\n",
        "print(\"Number of word tokens:\", sum(c.values()))\n",
        "\n",
        "print(\"\\nMost common tokens:\")\n",
        "for token, count in c.most_common(20):\n",
        "  print(\"%10s : %8d\" % (token, count))\n"
      ]
    },
    {
      "cell_type": "markdown",
      "metadata": {
        "id": "E6PWaEoh8B34"
      },
      "source": [
        "#(1) Lexicon-based approach (3.5pts)\n",
        "\n"
      ]
    },
    {
      "cell_type": "markdown",
      "metadata": {
        "id": "JsTSMb6ma4E8"
      },
      "source": [
        "A traditional approach to classify documents according to their sentiment is the lexicon-based approach. To implement this approach, you need a **sentiment lexicon**, i.e., a list of words annotated with a sentiment label (e.g., positive and negative, or a score from 0 to 5).\n",
        "\n",
        "In this practical, you will use the sentiment\n",
        "lexicon released by Wilson et al. (2005).\n",
        "\n",
        "> Theresa Wilson, Janyce Wiebe, and Paul Hoffmann\n",
        "(2005). [Recognizing Contextual Polarity in Phrase-Level Sentiment\n",
        "Analysis](http://www.aclweb.org/anthology/H/H05/H05-1044.pdf). HLT-EMNLP.\n",
        "\n",
        "Pay attention to all the information available in the sentiment lexicon. The field *word1* contains the lemma, *priorpolarity* contains the sentiment label (positive, negative, both, or neutral), *type* gives you the magnitude of the word's sentiment (strong or weak), and *pos1* gives you the part-of-speech tag of the lemma. Some lemmas can have multiple part-of-speech tags and thus multiple entries in the lexicon. The path of the lexicon file is `\"sent_lexicon\"`.\n"
      ]
    },
    {
      "cell_type": "code",
      "execution_count": 5,
      "metadata": {
        "colab": {
          "base_uri": "https://localhost:8080/"
        },
        "id": "Ogq0Eq2hQglh",
        "outputId": "c63d2f10-7b3a-4c6e-8c24-8800aef27079"
      },
      "outputs": [
        {
          "output_type": "stream",
          "name": "stdout",
          "text": [
            "type=weaksubj len=1 word1=abandoned pos1=adj stemmed1=n priorpolarity=negative\n",
            "type=weaksubj len=1 word1=abandonment pos1=noun stemmed1=n priorpolarity=negative\n",
            "type=weaksubj len=1 word1=abandon pos1=verb stemmed1=y priorpolarity=negative\n",
            "type=strongsubj len=1 word1=abase pos1=verb stemmed1=y priorpolarity=negative\n",
            "type=strongsubj len=1 word1=abasement pos1=anypos stemmed1=y priorpolarity=negative\n"
          ]
        }
      ],
      "source": [
        "with open(\"sent_lexicon\", mode=\"r\", encoding=\"utf-8\") as f:\n",
        "  line_cnt = 0\n",
        "  for line in f:\n",
        "    print(line.strip())\n",
        "    line_cnt += 1\n",
        "    if line_cnt > 4:\n",
        "      break"
      ]
    },
    {
      "cell_type": "markdown",
      "metadata": {
        "id": "Mml4nOtIUBhn"
      },
      "source": [
        "Lexica such as this can be used to solve\n",
        "the classification task without using Machine Learning. For example, one might look up every word $w_1 ... w_n$ in a document, and compute a **binary score**\n",
        "$S_{binary}$ by counting how many words have a positive or a\n",
        "negative label in the sentiment lexicon $SLex$.\n",
        "\n",
        "$$S_{binary}(w_1 w_2 ... w_n) = \\sum_{i = 1}^{n}\\text{sign}(SLex\\big[w_i\\big])$$\n",
        "\n",
        "where $\\text{sign}(SLex\\big[w_i\\big])$ refers to the polarity of $w_i$.\n",
        "\n",
        "**Threshold.** On average, there are more positive than negative words per review (~7.13 more positive than negative per review) to take this bias into account you should use a threshold of **8** (roughly the bias itself) to make it harder to classify as positive.\n",
        "\n",
        "$$\n",
        "\\text{classify}(S_{binary}(w_1 w_2 ... w_n)) = \\bigg\\{\\begin{array}{ll}\n",
        "        \\text{positive} & \\text{if } S_{binary}(w_1w_2...w_n) > threshold\\\\\n",
        "        \\text{negative} & \\text{otherwise}\n",
        "        \\end{array}\n",
        "$$\n"
      ]
    },
    {
      "cell_type": "markdown",
      "metadata": {
        "id": "tOFnMvbeeZrc"
      },
      "source": [
        "#### (Q1.1) Implement this approach and report its classification accuracy. (1 pt)"
      ]
    },
    {
      "cell_type": "code",
      "execution_count": 6,
      "metadata": {
        "id": "ED2aTEYutW1-"
      },
      "outputs": [],
      "source": [
        "# YOUR CODE HERE\n",
        "sent_dict_sign, sent_dict_weight = {}, {}\n",
        "polarity = {'negative': -1, 'positive': 1, 'both': 0, 'neutral': 0}\n",
        "\n",
        "with open(\"sent_lexicon\", mode=\"r\", encoding=\"utf-8\") as f:\n",
        "  for line in f:\n",
        "    items = dict([elem.split('=') for elem in line.strip().split()])\n",
        "    sent_dict_sign[items['word1']] = polarity[items['priorpolarity']]\n",
        "    sent_dict_weight[items['word1']] = 1 if (items['type'] == 'weaksubj') else 2\n",
        "\n",
        "score_bin = []\n",
        "for review in reviews:\n",
        "  s_bin = 0\n",
        "  for sentence in review[\"content\"]:\n",
        "    for token, _ in sentence:\n",
        "      s_bin += sent_dict_sign.get(token.lower(), 0)\n",
        "  score_bin.append(s_bin)"
      ]
    },
    {
      "cell_type": "code",
      "execution_count": 7,
      "metadata": {
        "id": "iy528EUTphz5",
        "colab": {
          "base_uri": "https://localhost:8080/"
        },
        "outputId": "2bdd57f6-c114-4248-d91d-6752351b56d6"
      },
      "outputs": [
        {
          "output_type": "stream",
          "name": "stdout",
          "text": [
            "Accuracy: 0.679\n"
          ]
        }
      ],
      "source": [
        "# token_results should be a list of binary indicators; for example [1, 0, 1, ...]\n",
        "# where 1 indicates a correct classification and 0 an incorrect classification.\n",
        "from sklearn.metrics import accuracy_score\n",
        "\n",
        "true_labels = [int(review['sentiment'] == 'POS') for review in reviews]\n",
        "\n",
        "token_results = [int(elem >= 8) for elem in score_bin]\n",
        "token_accuracy = accuracy_score(true_labels, token_results)\n",
        "print(f\"Accuracy: {token_accuracy}\")"
      ]
    },
    {
      "cell_type": "markdown",
      "metadata": {
        "id": "Twox0s_3eS0V"
      },
      "source": [
        "As the sentiment lexicon also has information about the **magnitude** of\n",
        "sentiment (e.g., *“excellent\"* has the same sentiment _polarity_ as *“good\"* but it has a higher magnitude), we can take a more fine-grained approach by adding up all\n",
        "sentiment scores, and deciding the polarity of the movie review using\n",
        "the sign of the weighted score $S_{weighted}$.\n",
        "\n",
        "$$S_{weighted}(w_1w_2...w_n) = \\sum_{i = 1}^{n}SLex\\big[w_i\\big]$$\n",
        "\n",
        "\n",
        "Make sure you define an appropriate threshold for this approach.\n",
        "\n",
        "#### (Q1.2) Now incorporate magnitude information and report the classification accuracy. Don't forget to use the threshold. (1pt)"
      ]
    },
    {
      "cell_type": "code",
      "execution_count": 8,
      "metadata": {
        "id": "qG3hUDnPtkhS"
      },
      "outputs": [],
      "source": [
        "# YOUR CODE HERE\n",
        "score_mag = []\n",
        "for review in reviews:\n",
        "  s_bin = 0\n",
        "  for sentence in review[\"content\"]:\n",
        "    for token, _ in sentence:\n",
        "      s_bin += sent_dict_weight.get(token.lower(), 0) * sent_dict_sign.get(token.lower(), 0)\n",
        "  score_mag.append(s_bin)"
      ]
    },
    {
      "cell_type": "code",
      "execution_count": 9,
      "metadata": {
        "colab": {
          "base_uri": "https://localhost:8080/"
        },
        "id": "9vVk7CvDpyka",
        "outputId": "1961bc07-1d59-47d1-d616-6bcedc4334ef"
      },
      "outputs": [
        {
          "output_type": "stream",
          "name": "stdout",
          "text": [
            "Accuracy: 0.687\n"
          ]
        }
      ],
      "source": [
        "av_diff = 7.13 * 1.3\n",
        "\n",
        "magnitude_results = [int(elem >= av_diff) for elem in score_mag] # threshold with assumption that out of these 7.12 words half are strong sentimented\n",
        "magnitude_accuracy = accuracy_score(true_labels, magnitude_results)\n",
        "print(f\"Accuracy: {magnitude_accuracy}\")"
      ]
    },
    {
      "cell_type": "markdown",
      "metadata": {
        "id": "h9SHoGPfsAHV"
      },
      "source": [
        "#### (Q.1.3) Make a barplot of the two results (0.5pt)"
      ]
    },
    {
      "cell_type": "code",
      "execution_count": 10,
      "metadata": {
        "id": "8LgBcYcXsEk3",
        "colab": {
          "base_uri": "https://localhost:8080/",
          "height": 448
        },
        "outputId": "7d1a8e47-b396-4b1b-a89f-24d55d7719d5"
      },
      "outputs": [
        {
          "output_type": "execute_result",
          "data": {
            "text/plain": [
              "<BarContainer object of 2 artists>"
            ]
          },
          "metadata": {},
          "execution_count": 10
        },
        {
          "output_type": "display_data",
          "data": {
            "text/plain": [
              "<Figure size 640x480 with 1 Axes>"
            ],
            "image/png": "[encoded data removed]"
          },
          "metadata": {}
        }
      ],
      "source": [
        "# YOUR CODE HERE\n",
        "plt.bar(['without magnitude', 'with magnitude'], [token_accuracy, magnitude_accuracy])"
      ]
    },
    {
      "cell_type": "markdown",
      "metadata": {
        "id": "sNhS8OCVxMHd"
      },
      "source": [
        "#### (Q1.4) A better threshold (1pt)\n",
        "Above we have defined a threshold to account for an inherent bias in the dataset: there are more positive than negative words per review.\n",
        "However, that threshold does not take into account *document length*. Explain why this is a problem and implement an alternative way to compute the threshold."
      ]
    },
    {
      "cell_type": "markdown",
      "metadata": {
        "id": "xo7gk1I-omLI"
      },
      "source": [
        "*Write your answer here.*"
      ]
    },
    {
      "cell_type": "code",
      "execution_count": 11,
      "metadata": {
        "id": "Dwt0B8h8aKjr",
        "colab": {
          "base_uri": "https://localhost:8080/"
        },
        "outputId": "d0215463-b6c3-45fa-8b41-49c05b66dd3b"
      },
      "outputs": [
        {
          "output_type": "stream",
          "name": "stdout",
          "text": [
            "Accuracy token: 0.672\n"
          ]
        }
      ],
      "source": [
        "# YOUR CODE HERE\n",
        "average_length = sum([len(review['content']) for review in reviews]) / len(reviews)\n",
        "# EXPLANATION:\n",
        "# on average there are 8 more positive words, but for longer texts (and shorter\n",
        "# similarly), we expect proportionally more positive words. makes sense to take\n",
        "# length / average_length as the scaling factor\n",
        "\n",
        "token_results = [int(score >= 7.13 * (len(review['content']) / average_length)) for score, review in zip(score_bin, reviews)]\n",
        "token_accuracy = accuracy_score(true_labels, token_results)\n",
        "print(f\"Accuracy token: {token_accuracy}\")"
      ]
    },
    {
      "cell_type": "code",
      "source": [
        "av_diff = 7.13 * 1.3\n",
        "\n",
        "magnitude_results = [int(elem >= (av_diff * (len(review['content']) / average_length))) for elem in score_mag] # threshold with assumption that out of these 8 words half are strong sentimented\n",
        "magnitude_accuracy = accuracy_score(true_labels, magnitude_results)\n",
        "print(f\"Accuracy: {magnitude_accuracy}\")"
      ],
      "metadata": {
        "id": "ZhNJw84idUJn",
        "colab": {
          "base_uri": "https://localhost:8080/"
        },
        "outputId": "e9f3e8e1-938d-4ee8-ee9b-4e1162e4f023"
      },
      "execution_count": 12,
      "outputs": [
        {
          "output_type": "stream",
          "name": "stdout",
          "text": [
            "Accuracy: 0.6895\n"
          ]
        }
      ]
    },
    {
      "cell_type": "markdown",
      "metadata": {
        "id": "LibV4nR89BXb"
      },
      "source": [
        "# (2) Naive Bayes (9.5pts)"
      ]
    },
    {
      "cell_type": "markdown",
      "metadata": {
        "id": "fnF9adQnuwia"
      },
      "source": [
        "\n",
        "Your second task is to program a simple Machine Learning approach that operates\n",
        "on a simple Bag-of-Words (BoW) representation of the text data, as\n",
        "described by Pang et al. (2002). In this approach, the only features we\n",
        "will consider are the words in the text themselves, without bringing in\n",
        "external sources of information. The BoW model is a popular way of\n",
        "representing texts as vectors, making it\n",
        "easy to apply classical Machine Learning algorithms on NLP tasks.\n",
        "However, the BoW representation is also very crude, since it discards\n",
        "all information related to word order and grammatical structure in the\n",
        "original text—as the name suggests.\n",
        "\n",
        "## Writing your own classifier (4pts)\n",
        "\n",
        "Write your own code to implement the Naive Bayes (NB) classifier. As\n",
        "a reminder, the Naive Bayes classifier works according to the following\n",
        "equation:\n",
        "$$\\hat{c} = \\operatorname*{arg\\,max}_{c \\in C} P(c|\\bar{f}) = \\operatorname*{arg\\,max}_{c \\in C} P(c)\\prod^n_{i=1} P(f_i|c)$$\n",
        "where $C = \\{ \\text{POS}, \\text{NEG} \\}$ is the set of possible classes,\n",
        "$\\hat{c} \\in C$ is the most probable class, and $\\bar{f}$ is the feature\n",
        "vector. Remember that we use the log of these probabilities when making\n",
        "a prediction:\n",
        "$$\\hat{c} = \\operatorname*{arg\\,max}_{c \\in C} \\Big\\{\\log P(c) + \\sum^n_{i=1} \\log P(f_i|c)\\Big\\}$$\n",
        "\n",
        "You can find more details about Naive Bayes in [Jurafsky &\n",
        "Martin](https://web.stanford.edu/~jurafsky/slp3/). You can also look at\n",
        "this helpful\n",
        "[pseudo-code](https://nlp.stanford.edu/IR-book/html/htmledition/naive-bayes-text-classification-1.html).\n",
        "\n",
        "*Note: this section and the next aim to put you in a position to replicate\n",
        "    Pang et al.'s Naive Bayes results. However, your numerical results\n",
        "    will differ from theirs, as they used different data.*\n",
        "\n",
        "**You must write the Naive Bayes training and prediction code from\n",
        "scratch.** You will not be given credit for using off-the-shelf Machine\n",
        "Learning libraries.\n",
        "\n",
        "The data contains the text of the reviews, where each document consists\n",
        "of the sentences in the review, the sentiment of the review and an index\n",
        "(cv) that you will later use for cross-validation. The\n",
        "text has already been tokenised and POS-tagged for you. Your algorithm\n",
        "should read in the text, **lowercase it**, store the words and their\n",
        "frequencies in an appropriate data structure that allows for easy\n",
        "computation of the probabilities used in the Naive Bayes algorithm, and\n",
        "then make predictions for new instances.\n"
      ]
    },
    {
      "cell_type": "code",
      "execution_count": 13,
      "metadata": {
        "id": "tHlSvmIHWCN-"
      },
      "outputs": [],
      "source": [
        "class NaiveBayesClassifier:\n",
        "\n",
        "  def __init__(self):\n",
        "\n",
        "    self.class_count = Counter()\n",
        "    self.word_given_class_count = defaultdict(lambda: Counter())\n",
        "    self.total_words_per_class_count = Counter()\n",
        "    self.vocabulary = set()\n",
        "    self.word_presence_in_class = defaultdict(set)\n",
        "    self.stemmer = PorterStemmer()\n",
        "    self.UNK = \"<UNK>\"\n",
        "\n",
        "\n",
        "  def data_process(self, content, stemm=False, ngrams_range=(1, 1)):\n",
        "    # Consider sentence boundry\n",
        "    if stemm:\n",
        "      sentences = [[self.stemmer.stem(token.lower()) for token, pos_tag in sentence] for sentence in content]\n",
        "    else:\n",
        "      sentences = [[token.lower() for token, pos_tag in sentence] for sentence in content]\n",
        "\n",
        "    ngrams_features = []\n",
        "\n",
        "    for sentence in sentences:\n",
        "      for n in range(ngrams_range[0], ngrams_range[1] + 1):\n",
        "        ngrams_features += [' '.join(ngram) for ngram in ngrams(sentence, n)]\n",
        "\n",
        "    return ngrams_features\n",
        "\n",
        "  def train(self, reviews, stemm=False, ngrams_range=(1, 1), smooth=True):\n",
        "    for review in reviews:\n",
        "      self.class_count[review[\"sentiment\"]] += 1\n",
        "\n",
        "      words = self.data_process(review[\"content\"], stemm, ngrams_range)\n",
        "\n",
        "      self.vocabulary.update(words)\n",
        "\n",
        "      for word in words:\n",
        "        self.word_given_class_count[review[\"sentiment\"]][word] += 1\n",
        "        self.total_words_per_class_count[review[\"sentiment\"]] += 1\n",
        "        self.word_presence_in_class[word].add(review[\"sentiment\"])\n",
        "\n",
        "    self.vocabulary.add(self.UNK)\n",
        "    for c in self.class_count:\n",
        "      self.word_given_class_count[c][self.UNK] = 0\n",
        "\n",
        "    if not smooth:\n",
        "      words_to_remove = [word for word in self.vocabulary if len(self.word_presence_in_class[word]) < 2]\n",
        "      for word in words_to_remove:\n",
        "        self.vocabulary.remove(word)\n",
        "\n",
        "    print(f\"Size of the vocabulary:{len(self.vocabulary)}\")\n",
        "\n",
        "  def predict(self, content, stemm=False, ngrams_range=(1, 1), smooth=True):\n",
        "\n",
        "    words = self.data_process(content, stemm, ngrams_range)\n",
        "\n",
        "    class_probs = {}\n",
        "\n",
        "    for c in self.class_count:\n",
        "      log_P_c = math.log(self.class_count[c] / sum(self.class_count.values()))\n",
        "\n",
        "      for word in words:\n",
        "        # for smooth=False, UNK includes words in both case 1 & 2 (Q2.1)\n",
        "        # for smooth=True, UNK includes words in case 1\n",
        "        if word not in self.vocabulary:\n",
        "          word = self.UNK\n",
        "\n",
        "        if smooth:\n",
        "          P_word_given_c = (self.word_given_class_count[c][word] + 1) / (self.total_words_per_class_count[c] + len(self.vocabulary))\n",
        "        else:\n",
        "          # if not smooth, skip the UNK\n",
        "          if self.word_given_class_count[c][word] == 0:\n",
        "            continue\n",
        "          P_word_given_c = self.word_given_class_count[c][word] / self.total_words_per_class_count[c]\n",
        "\n",
        "        log_P_word_given_c = math.log(P_word_given_c)\n",
        "        log_P_c += log_P_word_given_c\n",
        "\n",
        "      class_probs[c] = log_P_c\n",
        "\n",
        "    # print(class_probs)\n",
        "\n",
        "    return max(class_probs, key=class_probs.get)"
      ]
    },
    {
      "cell_type": "markdown",
      "metadata": {
        "id": "vEpyQSBSkb33"
      },
      "source": [
        "#### (Q2.1) Unseen words (1pt)\n",
        "The presence of words in the test dataset that\n",
        "have not been seen during training can cause probabilities in the Naive Bayes classifier to equal $0$.\n",
        "These can be words which are unseen in both positive and negative training reviews (case 1), but also words which are seen in reviews _of only one sentiment class_ in the training dataset (case 2). In both cases, **you should skip these words for both classes at test time**.  What would be the problem instead with skipping words only for one class in case 2?"
      ]
    },
    {
      "cell_type": "markdown",
      "metadata": {
        "id": "BanFiYYnoxDW"
      },
      "source": [
        ">Keeping the word in only one class will add more negative terms in that class's sum log probability (0 < p < 1, log(p) < 0), which causes unfair comparison between the two classes and skews the classifier towards the opposite class when the same word appears in the test set."
      ]
    },
    {
      "cell_type": "markdown",
      "metadata": {
        "id": "gsZRhaI3WvzC"
      },
      "source": [
        "#### (Q2.2) Train your classifier on (positive and negative) reviews with cv-value 000-899, and test it on the remaining (positive and negative) reviews cv900–cv999.  Report results using classification accuracy as your evaluation metric. Your  features are the word vocabulary. The value of a feature is the count of that feature (word) in the document. (2pts)\n"
      ]
    },
    {
      "cell_type": "code",
      "execution_count": 14,
      "metadata": {
        "id": "G7zaJYGFvIJ3"
      },
      "outputs": [],
      "source": [
        "# YOUR CODE HERE\n",
        "with open(\"reviews.json\", mode=\"r\", encoding=\"utf-8\") as f:\n",
        "  reviews = json.load(f)\n",
        "\n",
        "train_reviews = [review for review in reviews if review[\"cv\"] < 900]\n",
        "test_reviews = [review for review in reviews if review[\"cv\"] >= 900]\n",
        "\n",
        "# print(train_reviews)\n",
        "# print(test_reviews)"
      ]
    },
    {
      "cell_type": "code",
      "execution_count": 15,
      "metadata": {
        "id": "pB_l4BdsvwQe",
        "colab": {
          "base_uri": "https://localhost:8080/"
        },
        "outputId": "e66efb4d-2b95-44e9-c858-b4ceaafc00b3"
      },
      "outputs": [
        {
          "output_type": "stream",
          "name": "stdout",
          "text": [
            "Size of the vocabulary:18799\n"
          ]
        }
      ],
      "source": [
        "stemm = False\n",
        "smooth = False\n",
        "NBClassifier = NaiveBayesClassifier()\n",
        "NBClassifier.train(train_reviews, stemm=stemm, smooth=smooth)"
      ]
    },
    {
      "cell_type": "code",
      "execution_count": 16,
      "metadata": {
        "colab": {
          "base_uri": "https://localhost:8080/"
        },
        "id": "0EXhfPolysoH",
        "outputId": "a5c03cd8-22cb-4117-adfc-9f73427857ac"
      },
      "outputs": [
        {
          "output_type": "stream",
          "name": "stdout",
          "text": [
            "Accuracy (stemm=False, smooth=False) : 0.825\n"
          ]
        }
      ],
      "source": [
        "predictions= []\n",
        "for review in test_reviews:\n",
        "  predictions.append(NBClassifier.predict(review[\"content\"], stemm=stemm, smooth=smooth))\n",
        "\n",
        "accuracy= sum([1 if predictions[i] == test_reviews[i][\"sentiment\"] else 0 for i in range(len(predictions))]) / len(predictions)\n",
        "print(f\"Accuracy (stemm={stemm}, smooth={smooth}) : {accuracy}\")"
      ]
    },
    {
      "cell_type": "markdown",
      "metadata": {
        "id": "0INK-PBoM6CB"
      },
      "source": [
        "#### (Q2.3) Would you consider accuracy to also be a good way to evaluate your classifier in a situation where 90% of your data instances are of positive movie reviews? (1pt)\n",
        "\n",
        "Simulate this scenario by keeping the positive reviews\n",
        "data unchanged, but only using negative reviews cv000–cv089 for\n",
        "training, and cv900–cv909 for testing. Calculate the classification\n",
        "accuracy, and explain what changed."
      ]
    },
    {
      "cell_type": "markdown",
      "metadata": {
        "id": "oFbcsYlipBAw"
      },
      "source": [
        ">In this case, accuracy is NOT a good way to evaluate the classifier because the data set is imbalanced. The classifer can simply predict \"Positive\" to gain higher accuracy instead of learning to distinguish between the positive and negative classes. The accuaracy in this scenario is 60% and it could be much lower if we have a test set that contains mostly negative reviews."
      ]
    },
    {
      "cell_type": "code",
      "execution_count": 17,
      "metadata": {
        "id": "GWDkt5ZrrFGp"
      },
      "outputs": [],
      "source": [
        "# YOUR CODE HERE\n",
        "train_reviews_most_pos = [review for review in reviews if review[\"cv\"] < 900 and review[\"sentiment\"] == \"POS\"]\n",
        "train_reviews_most_pos += [review for review in reviews if review[\"cv\"] < 90 and review[\"sentiment\"] == \"NEG\"]\n",
        "\n",
        "# print(train_reviews_most_pos)\n",
        "\n",
        "test_reviews_most_pos = [review for review in reviews if review[\"cv\"] >= 900 and review[\"sentiment\"] == \"POS\"]\n",
        "test_reviews_most_pos += [review for review in reviews if review[\"cv\"] >= 900 and review[\"cv\"] < 910 and review[\"sentiment\"] == \"NEG\"]\n",
        "\n",
        "# print(test_reviews_most_pos)"
      ]
    },
    {
      "cell_type": "code",
      "execution_count": 18,
      "metadata": {
        "colab": {
          "base_uri": "https://localhost:8080/"
        },
        "id": "H5ODebRk2tSc",
        "outputId": "4167de25-bce6-4552-f66a-fd879a4b61d0"
      },
      "outputs": [
        {
          "output_type": "stream",
          "name": "stdout",
          "text": [
            "Size of the vocabulary:7351\n",
            "Accuracy (stemm=False, smooth=False) : 0.6\n"
          ]
        }
      ],
      "source": [
        "stemm = False\n",
        "smooth = False\n",
        "\n",
        "NBClassifier = NaiveBayesClassifier()\n",
        "NBClassifier.train(train_reviews_most_pos, stemm=stemm, smooth=smooth)\n",
        "\n",
        "predictions = []\n",
        "for review in test_reviews_most_pos:\n",
        "  predictions.append(NBClassifier.predict(review[\"content\"], stemm=stemm, smooth=smooth))\n",
        "\n",
        "accuracy= sum([1 if predictions[i] == test_reviews_most_pos[i][\"sentiment\"] else 0 for i in range(len(predictions))]) / len(predictions)\n",
        "print(f\"Accuracy (stemm={stemm}, smooth={smooth}) : {accuracy}\")"
      ]
    },
    {
      "cell_type": "markdown",
      "metadata": {
        "id": "6wJzcHX3WUDm"
      },
      "source": [
        "## Smoothing (1pt)\n",
        "\n",
        "As mentioned above, the presence of words in the test dataset that\n",
        "have not been seen during training can cause probabilities in the Naive\n",
        "Bayes classifier to be $0$, thus making that particular test instance\n",
        "undecidable. The standard way to mitigate this effect (as well as to\n",
        "give more clout to rare words) is to use smoothing, in which the\n",
        "probability fraction\n",
        "$$\\frac{\\text{count}(w_i, c)}{\\sum\\limits_{w\\in V} \\text{count}(w, c)}$$ for a word\n",
        "$w_i$ becomes\n",
        "$$\\frac{\\text{count}(w_i, c) + \\text{smoothing}(w_i)}{\\sum\\limits_{w\\in V} \\text{count}(w, c) + \\sum\\limits_{w \\in V} \\text{smoothing}(w)}$$\n",
        "\n",
        "\n",
        "\n"
      ]
    },
    {
      "cell_type": "markdown",
      "metadata": {
        "id": "PBNIcbwUWphC"
      },
      "source": [
        "#### (Q2.4) Implement Laplace feature smoothing (1pt)\n",
        "Implement Laplace smoothing, i.e., smoothing with a constant value ($smoothing(w) = \\kappa, \\forall w \\in V$), in your Naive\n",
        "Bayes classifier’s code, and report the accuracy.\n",
        "Use $\\kappa = 1$."
      ]
    },
    {
      "cell_type": "code",
      "execution_count": 19,
      "metadata": {
        "colab": {
          "base_uri": "https://localhost:8080/"
        },
        "id": "g03yflCc9kpW",
        "outputId": "af9676dd-b684-411a-e7b4-615412f67211"
      },
      "outputs": [
        {
          "output_type": "stream",
          "name": "stdout",
          "text": [
            "Size of the vocabulary:45349\n",
            "Accuracy (stemm=False, smooth=True) : 0.825\n"
          ]
        }
      ],
      "source": [
        "# YOUR CODE HERE\n",
        "stemm = False\n",
        "smooth = True\n",
        "\n",
        "NBClassifier = NaiveBayesClassifier()\n",
        "NBClassifier.train(train_reviews, stemm=stemm, smooth=smooth)\n",
        "\n",
        "predictions = []\n",
        "for review in test_reviews:\n",
        "  predictions.append(NBClassifier.predict(review[\"content\"], stemm=stemm, smooth=smooth))\n",
        "\n",
        "accuracy = sum([1 if predictions[i] == test_reviews[i][\"sentiment\"] else 0 for i in range(len(predictions))]) / len(predictions)\n",
        "print(f\"Accuracy (stemm={stemm}, smooth={smooth}) : {accuracy}\")"
      ]
    },
    {
      "cell_type": "markdown",
      "metadata": {
        "id": "ZiGcgwba87D5"
      },
      "source": [
        "## Cross-Validation (1.5pts)\n",
        "\n",
        "A serious danger in using Machine Learning on small datasets, with many\n",
        "iterations of slightly different versions of the algorithms, is ending up with Type III errors, also called the “testing hypotheses\n",
        "suggested by the data” errors. This type of error occurs when we make\n",
        "repeated improvements to our classifiers by playing with features and\n",
        "their processing, but we don’t get a fresh, never-before seen test\n",
        "dataset every time. Thus, we risk developing a classifier that gets better\n",
        "and better on our data, but only gets worse at generalizing to new, unseen data. In other words, we risk developping a classifier that overfits.\n",
        "\n",
        "A simple method to guard against Type III errors is to use\n",
        "Cross-Validation. In **N-fold Cross-Validation**, we divide the data into N\n",
        "distinct chunks, or folds. Then, we repeat the experiment N times: each\n",
        "time holding out one of the folds for testing, training our classifier\n",
        "on the remaining N - 1 data folds, and reporting performance on the\n",
        "held-out fold. We can use different strategies for dividing the data:\n",
        "\n",
        "-   Consecutive splitting:\n",
        "  - cv000–cv099 = Split 1\n",
        "  - cv100–cv199 = Split 2\n",
        "  - etc.\n",
        "  \n",
        "-   Round-robin splitting (mod 10):\n",
        "  - cv000, cv010, cv020, … = Split 1\n",
        "  - cv001, cv011, cv021, … = Split 2\n",
        "  - etc.\n",
        "\n",
        "-   Random sampling/splitting\n",
        "  - Not used here (but you may choose to split this way in a non-educational situation)\n",
        "\n"
      ]
    },
    {
      "cell_type": "markdown",
      "metadata": {
        "id": "8OeLcbSauGtR"
      },
      "source": [
        "#### (Q2.5) Write the code to implement 10-fold cross-validation using round-robin splitting for your Naive Bayes classifier from Q2.4 and compute the 10 accuracies. Report the final performance, which is the average of the performances per fold. If all splits perform equally well, this is a good sign. (1pt)"
      ]
    },
    {
      "cell_type": "code",
      "execution_count": 20,
      "metadata": {
        "id": "3KeCGPa7Nuzx",
        "colab": {
          "base_uri": "https://localhost:8080/"
        },
        "outputId": "cb62b554-8333-45bb-d834-23165e0e9884"
      },
      "outputs": [
        {
          "output_type": "stream",
          "name": "stdout",
          "text": [
            "Size of the vocabulary:45330\n",
            "Size of the vocabulary:45393\n",
            "Size of the vocabulary:45439\n",
            "Size of the vocabulary:45390\n",
            "Size of the vocabulary:45649\n",
            "Size of the vocabulary:45297\n",
            "Size of the vocabulary:45366\n",
            "Size of the vocabulary:45410\n",
            "Size of the vocabulary:45558\n",
            "Size of the vocabulary:45643\n",
            "Accuracies each fold (stemm=False, smooth=True): [0.79, 0.835, 0.81, 0.83, 0.775, 0.85, 0.83, 0.78, 0.825, 0.845]\n",
            "Average accuracy (stemm=False, smooth=True): 0.817\n"
          ]
        }
      ],
      "source": [
        "# YOUR CODE HERE\n",
        "stemm = False\n",
        "smooth = True\n",
        "\n",
        "folds = {i: [] for i in range(10)}\n",
        "\n",
        "for review in reviews:\n",
        "  folds[review[\"cv\"] % 10].append(review)\n",
        "\n",
        "accuracies = []\n",
        "\n",
        "for i in range(10):\n",
        "  train_reviews = [review for review in reviews if review not in folds[i]]\n",
        "  test_reviews = folds[i]\n",
        "\n",
        "  NBClassifier = NaiveBayesClassifier()\n",
        "  NBClassifier.train(train_reviews, stemm=stemm, smooth=smooth)\n",
        "\n",
        "  predictions= []\n",
        "  for review in test_reviews:\n",
        "    predictions.append(NBClassifier.predict(review[\"content\"], stemm=stemm, smooth=smooth))\n",
        "\n",
        "  accuracy = sum([1 if predictions[i] == test_reviews[i][\"sentiment\"] else 0 for i in range(len(predictions))]) / len(predictions)\n",
        "  accuracies.append(accuracy)\n",
        "\n",
        "print(f\"Accuracies each fold (stemm={stemm}, smooth={smooth}): {accuracies}\")\n",
        "avg_acc = sum(accuracies) / len(accuracies)\n",
        "print(f\"Average accuracy (stemm={stemm}, smooth={smooth}): {avg_acc}\")"
      ]
    },
    {
      "cell_type": "markdown",
      "metadata": {
        "id": "otdlsDXBNyOa"
      },
      "source": [
        "#### (Q2.6) Report the variance of the 10 accuracy scores. (0.5pt)\n",
        "\n",
        "**Please report all future results using 10-fold cross-validation now\n",
        "(unless told to use the held-out test set).** Note: you're not allowed to use a library for computing the variance."
      ]
    },
    {
      "cell_type": "code",
      "execution_count": 21,
      "metadata": {
        "id": "ZoBQm1KuNzNR",
        "colab": {
          "base_uri": "https://localhost:8080/"
        },
        "outputId": "5cf2ec9b-3c1f-45b9-9540-5152d547c253"
      },
      "outputs": [
        {
          "output_type": "stream",
          "name": "stdout",
          "text": [
            "Variance: 0.0006509999999999987\n"
          ]
        }
      ],
      "source": [
        "# YOUR CODE HERE\n",
        "variance = sum([(accuracies[i] - avg_acc) ** 2 for i in range(len(accuracies))]) / len(accuracies)\n",
        "print(f\"Variance: {variance}\")"
      ]
    },
    {
      "cell_type": "markdown",
      "metadata": {
        "id": "s6A2zX9_BRKm"
      },
      "source": [
        "## Features, overfitting, and the curse of dimensionality\n",
        "\n",
        "In the Bag-of-Words model, ideally we would like each distinct word in\n",
        "the text to be mapped to its own dimension in the output vector\n",
        "representation. However, real world text is messy, and we need to decide\n",
        "on what we consider to be a word. For example, is “`word`\" different\n",
        "from “`Word`\", from “`word`”, or from “`words`\"? Too strict a\n",
        "definition, and the number of features explodes, while our algorithm\n",
        "fails to learn anything generalisable. Too lax, and we risk destroying\n",
        "our learning signal. In the following section, you will learn about\n",
        "confronting the feature sparsity and the overfitting problems as they\n",
        "occur in NLP classification tasks."
      ]
    },
    {
      "cell_type": "markdown",
      "metadata": {
        "id": "EKK8FNt8VtcZ"
      },
      "source": [
        "### Stemming (1.5pts)\n",
        "\n",
        "To make your algorithm more robust, use stemming and hash different inflections of a word to the same feature in the BoW vector space. Please use the [Porter stemming\n",
        "    algorithm](http://www.nltk.org/howto/stem.html) from NLTK.\n",
        "\n"
      ]
    },
    {
      "cell_type": "code",
      "execution_count": null,
      "metadata": {
        "id": "NxtCul1IrBi_"
      },
      "outputs": [],
      "source": [
        "# YOUR CODE HERE\n",
        "# Please refer to the class NaiveBayesClassifier, the def data_process is modified, adding another parameter: stemm."
      ]
    },
    {
      "cell_type": "markdown",
      "metadata": {
        "id": "6SrJ1BeLXTnk"
      },
      "source": [
        "#### (Q2.7): How does the performance of your classifier change when you use stemming on your training and test datasets? (1pt)\n",
        "Use cross-validation to evaluate the classifier.\n"
      ]
    },
    {
      "cell_type": "code",
      "execution_count": 22,
      "metadata": {
        "id": "gYqKBOiIrInT",
        "colab": {
          "base_uri": "https://localhost:8080/"
        },
        "outputId": "c815ac82-3708-4b25-ba08-5100c03c126d"
      },
      "outputs": [
        {
          "output_type": "stream",
          "name": "stdout",
          "text": [
            "Size of the vocabulary:32372\n",
            "Size of the vocabulary:32483\n",
            "Size of the vocabulary:32546\n",
            "Size of the vocabulary:32499\n",
            "Size of the vocabulary:32700\n",
            "Size of the vocabulary:32440\n",
            "Size of the vocabulary:32441\n",
            "Size of the vocabulary:32494\n",
            "Size of the vocabulary:32577\n",
            "Size of the vocabulary:32668\n",
            "Accuracies each fold (stemm=True, smooth=True): [0.78, 0.84, 0.81, 0.85, 0.775, 0.835, 0.81, 0.775, 0.83, 0.84]\n",
            "Average accuracy (stemm=True, smooth=True): 0.8145000000000001\n"
          ]
        }
      ],
      "source": [
        "# YOUR ANSWER HERE\n",
        "stemm = True\n",
        "smooth = True\n",
        "\n",
        "folds = {i: [] for i in range(10)}\n",
        "\n",
        "for review in reviews:\n",
        "  folds[review[\"cv\"] % 10].append(review)\n",
        "\n",
        "accuracies = []\n",
        "\n",
        "for i in range(10):\n",
        "  train_reviews = [review for review in reviews if review not in folds[i]]\n",
        "  test_reviews = folds[i]\n",
        "\n",
        "  NBClassifier = NaiveBayesClassifier()\n",
        "  NBClassifier.train(train_reviews, stemm=stemm, smooth=smooth)\n",
        "\n",
        "  predictions= []\n",
        "  for review in test_reviews:\n",
        "    predictions.append(NBClassifier.predict(review[\"content\"], stemm=stemm, smooth=smooth))\n",
        "\n",
        "  accuracy = sum([1 if predictions[i] == test_reviews[i][\"sentiment\"] else 0 for i in range(len(predictions))]) / len(predictions)\n",
        "  accuracies.append(accuracy)\n",
        "\n",
        "print(f\"Accuracies each fold (stemm={stemm}, smooth={smooth}): {accuracies}\")\n",
        "avg_acc = sum(accuracies) / len(accuracies)\n",
        "print(f\"Average accuracy (stemm={stemm}, smooth={smooth}): {avg_acc}\")"
      ]
    },
    {
      "cell_type": "markdown",
      "metadata": {
        "id": "JkDHVq_1XUVP"
      },
      "source": [
        "#### (Q2.8) What happens to the number of features (i.e., the size of the vocabulary) when using stemming as opposed to (Q2.4)? (0.5pt)\n",
        "Give actual numbers. You can use the held-out training set to determine these."
      ]
    },
    {
      "cell_type": "code",
      "execution_count": 23,
      "metadata": {
        "id": "MA3vee5-rJyy",
        "colab": {
          "base_uri": "https://localhost:8080/"
        },
        "outputId": "14794c18-fd1f-4c1c-f7ca-b8b5716cfeeb"
      },
      "outputs": [
        {
          "output_type": "stream",
          "name": "stdout",
          "text": [
            "Size of the vocabulary:32405\n",
            "Accuracy (stemm=True, smooth=True): 0.82\n"
          ]
        }
      ],
      "source": [
        "# YOUR CODE HERE\n",
        "stemm = True\n",
        "smooth = True\n",
        "\n",
        "train_reviews = [review for review in reviews if review[\"cv\"] < 900]\n",
        "test_reviews = [review for review in reviews if review[\"cv\"] >= 900]\n",
        "\n",
        "NBClassifier = NaiveBayesClassifier()\n",
        "NBClassifier.train(train_reviews, stemm=stemm, smooth=smooth)\n",
        "\n",
        "predictions = []\n",
        "for review in test_reviews:\n",
        "  predictions.append(NBClassifier.predict(review[\"content\"], stemm=stemm, smooth=smooth))\n",
        "\n",
        "accuracy = sum([1 if predictions[i] == test_reviews[i][\"sentiment\"] else 0 for i in range(len(predictions))]) / len(predictions)\n",
        "print(f\"Accuracy (stemm={stemm}, smooth={smooth}): {accuracy}\")"
      ]
    },
    {
      "cell_type": "markdown",
      "metadata": {
        "id": "SoazfxbNV5Lq"
      },
      "source": [
        "### N-grams (1.5pts)\n",
        "\n",
        "A simple way of retaining some of the word\n",
        "order information when using bag-of-words representations is to use **n-gram** features.\n",
        "\n",
        "\n",
        "\n",
        "\n"
      ]
    },
    {
      "cell_type": "markdown",
      "metadata": {
        "id": "OHjy3I7-qWiu"
      },
      "source": [
        "#### (Q2.9) Retrain your classifier from (Q2.4) using **unigrams+bigrams** and **unigrams+bigrams+trigrams** as features. (1pt)\n",
        "Report accuracy and compare it with that of the approaches you have previously implemented. You are allowed to use NLTK to build n-grams from sentences."
      ]
    },
    {
      "cell_type": "code",
      "execution_count": 24,
      "metadata": {
        "id": "eYuKMTOpq9jz",
        "colab": {
          "base_uri": "https://localhost:8080/"
        },
        "outputId": "6664fb08-c972-4270-d83b-93850696f8f4"
      },
      "outputs": [
        {
          "output_type": "stream",
          "name": "stdout",
          "text": [
            "Size of the vocabulary:45349\n",
            "Accuracy unigrams (stemm=False, smooth=True): 0.825\n",
            "Size of the vocabulary:465263\n",
            "Accuracy unigrams+bigrams (stemm=False, smooth=True): 0.855\n",
            "Size of the vocabulary:1346108\n",
            "Accuracy unigrams+bigrams+trigrams (stemm=False, smooth=True): 0.865\n"
          ]
        }
      ],
      "source": [
        "# YOUR CODE HERE\n",
        "stemm = False\n",
        "smooth = True\n",
        "\n",
        "train_reviews = [review for review in reviews if review[\"cv\"] < 900]\n",
        "test_reviews = [review for review in reviews if review[\"cv\"] >= 900]\n",
        "\n",
        "NBClassifier = NaiveBayesClassifier()\n",
        "NBClassifier.train(train_reviews, stemm=stemm, smooth=smooth, ngrams_range=(1, 1))\n",
        "\n",
        "predictions = []\n",
        "for review in test_reviews:\n",
        "  predictions.append(NBClassifier.predict(review[\"content\"], stemm=stemm, smooth=smooth, ngrams_range=(1, 1)))\n",
        "\n",
        "accuracy = sum([1 if predictions[i] == test_reviews[i][\"sentiment\"] else 0 for i in range(len(predictions))]) / len(predictions)\n",
        "print(f\"Accuracy unigrams (stemm={stemm}, smooth={smooth}): {accuracy}\")\n",
        "\n",
        "NBClassifier = NaiveBayesClassifier()\n",
        "NBClassifier.train(train_reviews, stemm=stemm, smooth=smooth, ngrams_range=(1, 2))\n",
        "\n",
        "predictions = []\n",
        "for review in test_reviews:\n",
        "  predictions.append(NBClassifier.predict(review[\"content\"], stemm=stemm, smooth=smooth, ngrams_range=(1, 2)))\n",
        "\n",
        "accuracy = sum([1 if predictions[i] == test_reviews[i][\"sentiment\"] else 0 for i in range(len(predictions))]) / len(predictions)\n",
        "print(f\"Accuracy unigrams+bigrams (stemm={stemm}, smooth={smooth}): {accuracy}\")\n",
        "\n",
        "\n",
        "NBClassifier = NaiveBayesClassifier()\n",
        "NBClassifier.train(train_reviews, stemm=stemm, smooth=smooth, ngrams_range=(1, 3))\n",
        "\n",
        "predictions = []\n",
        "for review in test_reviews:\n",
        "  predictions.append(NBClassifier.predict(review[\"content\"], stemm=stemm, smooth=smooth, ngrams_range=(1, 3)))\n",
        "\n",
        "accuracy = sum([1 if predictions[i] == test_reviews[i][\"sentiment\"] else 0 for i in range(len(predictions))]) / len(predictions)\n",
        "print(f\"Accuracy unigrams+bigrams+trigrams (stemm={stemm}, smooth={smooth}): {accuracy}\")"
      ]
    },
    {
      "cell_type": "markdown",
      "metadata": {
        "id": "dVrGGArkrWoL"
      },
      "source": [
        "\n",
        "#### Q2.10: How many features does the BoW model have to take into account now? (0.5pt)\n",
        "How would you expect the number of features to increase theoretically (e.g., linear, square, cubed, exponential)? How do the number of features increase in the held-out training set (compared to Q2.8)? Do you expect this rate of increase to continue for (much) larger n-grams?\n",
        "\n",
        "Use the held-out training set once again for this.\n"
      ]
    },
    {
      "cell_type": "markdown",
      "metadata": {
        "id": "yEGZ9SV8pPaa"
      },
      "source": [
        ">The increment of the number of features depends on the vocabulary size and the corpus size. The corpus size is the total number of the words and the vocabulary size is the number of the distinct words. When the vocabulary size is close to the corpus size, we expect the number of n-gram features increases linearly with respect to vocabulary size $V$. Because each word appears approximately $n$ times in the n-gram features, the number of features is approximately $n ⋅ V$. When the corpus size is much larger than the vocabulary size, we expect the number of features increases exponentially w.r.t. $V$, with the upper bound of $V^n$. Because at each position in an n-gram, there are $V$ possible choices of distinct words. Compared to Q2.8, the number of features of unigrams+bigrams is around 12 times that of unigrams. And features of unigrams+bigrams+trigrams are about 3 times that of unigrams+bigrams. And we expect the rate of increment to decrease as $n$ becomes larger."
      ]
    },
    {
      "cell_type": "code",
      "execution_count": 25,
      "metadata": {
        "id": "_z8sAJeUrdtM",
        "colab": {
          "base_uri": "https://localhost:8080/"
        },
        "outputId": "7edad963-4049-43aa-a0dc-7e831a2245f0"
      },
      "outputs": [
        {
          "output_type": "stream",
          "name": "stdout",
          "text": [
            "In the case of unigrams, stemm=True, smooth=True\n",
            "Size of the vocabulary:32405\n",
            "In the case of unigrams+bigrams, stemm=True, smooth=True\n",
            "Size of the vocabulary:407944\n",
            "In the case of unigrams+bigrams+trigrams, stemm=True, smooth=True\n",
            "Size of the vocabulary:1265913\n",
            "In the case of unigrams+bigrams+trigrams+4-grams, stemm=True, smooth=True\n",
            "Size of the vocabulary:2334322\n"
          ]
        }
      ],
      "source": [
        "# YOUR CODE HERE\n",
        "stemm = True\n",
        "smooth = True\n",
        "\n",
        "train_reviews = [review for review in reviews if review[\"cv\"] < 900]\n",
        "test_reviews = [review for review in reviews if review[\"cv\"] >= 900]\n",
        "\n",
        "print(f\"In the case of unigrams, stemm={stemm}, smooth={smooth}\")\n",
        "NBClassifier = NaiveBayesClassifier()\n",
        "NBClassifier.train(train_reviews, stemm=stemm, smooth=smooth, ngrams_range=(1, 1))\n",
        "\n",
        "print(f\"In the case of unigrams+bigrams, stemm={stemm}, smooth={smooth}\")\n",
        "NBClassifier = NaiveBayesClassifier()\n",
        "NBClassifier.train(train_reviews, stemm=stemm, smooth=smooth, ngrams_range=(1, 2))\n",
        "\n",
        "print(f\"In the case of unigrams+bigrams+trigrams, stemm={stemm}, smooth={smooth}\")\n",
        "NBClassifier = NaiveBayesClassifier()\n",
        "NBClassifier.train(train_reviews, stemm=stemm, smooth=smooth, ngrams_range=(1, 3))\n",
        "\n",
        "print(f\"In the case of unigrams+bigrams+trigrams+4-grams, stemm={stemm}, smooth={smooth}\")\n",
        "NBClassifier = NaiveBayesClassifier()\n",
        "NBClassifier.train(train_reviews, stemm=stemm, smooth=smooth, ngrams_range=(1, 4))"
      ]
    },
    {
      "cell_type": "markdown",
      "metadata": {
        "id": "CHWKDL3YV6vh"
      },
      "source": [
        "# (3) Support Vector Machines (4pts)"
      ]
    },
    {
      "cell_type": "markdown",
      "metadata": {
        "id": "hJSYhcVaoJGt"
      },
      "source": [
        "Though simple to understand, implement, and debug, one\n",
        "major problem with the Naive Bayes classifier is that its performance\n",
        "deteriorates (becomes skewed) when it is being used with features which\n",
        "are not independent (i.e., are correlated). Another popular classifier\n",
        "that doesn’t scale as well to big data, and is not as simple to debug as\n",
        "Naive Bayes, but that doesn’t assume feature independence is the Support\n",
        "Vector Machine (SVM) classifier.\n",
        "\n",
        "You can find more details about SVMs in Chapter 7 of Bishop: Pattern Recognition and Machine Learning.\n",
        "Other sources for learning SVM:\n",
        "* http://web.mit.edu/zoya/www/SVM.pdf\n",
        "* http://www.cs.columbia.edu/~kathy/cs4701/documents/jason_svm_tutorial.pdf\n",
        "* https://pythonprogramming.net/support-vector-machine-intro-machine-learning-tutorial/\n",
        "\n",
        "\n",
        "\n",
        "\n",
        "\n",
        "\n",
        "\n",
        "Use the scikit-learn implementation of\n",
        "[SVM](http://scikit-learn.org/stable/modules/svm.html) with the default parameters. (You are not expected to perform any hyperparameter tuning, but feel free to do it if you think it gives you good insights for the discussion in question 5.)\n",
        "\n"
      ]
    },
    {
      "cell_type": "markdown",
      "metadata": {
        "id": "0LnzNtQBV8gr"
      },
      "source": [
        "#### (Q3.1): Train SVM and compare to Naive Bayes (2pts)\n",
        "\n",
        "Train an SVM classifier (sklearn.svm.LinearSVC) using the features collected for Naive Bayes. Compare the\n",
        "classification performance of the SVM classifier to that of the Naive\n",
        "Bayes classifier with smoothing.\n",
        "Use cross-validation to evaluate the performance of the classifiers.\n",
        "\n"
      ]
    },
    {
      "cell_type": "code",
      "execution_count": 26,
      "metadata": {
        "id": "JBscui8Mvoz0"
      },
      "outputs": [],
      "source": [
        "# YOUR CODE HERE\n",
        "from scipy.sparse import csr_matrix\n",
        "\n",
        "class BowEncoder: # Bag of words encoder\n",
        "  def __init__(self):\n",
        "    self.vocabulary = set()\n",
        "    self.word2num = dict()\n",
        "    self.nb = NaiveBayesClassifier() # helper instance for data processing\n",
        "    self.stemmer = PorterStemmer()\n",
        "\n",
        "  def _data_process(self, content, pos=False, filter=None, stemm=False, ngrams_range=(1, 1)):\n",
        "    def process(token, pos_tag, stemm, pos, filter=None):\n",
        "      res = token.lower()\n",
        "      if stemm:\n",
        "        res = self.stemmer.stem(res)\n",
        "      if pos:\n",
        "        res += pos_tag[:2]\n",
        "      if filter != None:\n",
        "        if pos_tag[:2] not in filter:\n",
        "          return None\n",
        "      return res\n",
        "\n",
        "    sentences = [[process(token, pos_tag, stemm, pos, filter) for token, pos_tag in sentence] for sentence in content]\n",
        "    sentences = [[word for word in sentence if word is not None] for sentence in sentences]\n",
        "    sentences = [sentence for sentence in sentences if len(sentence) > 0]\n",
        "\n",
        "    ngrams_features = []\n",
        "\n",
        "    for sentence in sentences:\n",
        "      for n in range(ngrams_range[0], ngrams_range[1] + 1):\n",
        "        ngrams_features += [' '.join(ngram) for ngram in ngrams(sentence, n)]\n",
        "    return ngrams_features\n",
        "\n",
        "  def _transform(self, reviews, pos=False, filter=None, stemm=False, ngrams_range=(1, 1)):\n",
        "    # list[reviews] -> list[encoded review]\n",
        "    # where |encoded review| = len(vocabulary)\n",
        "    # and encoded_review[i] = count of token #i in this review\n",
        "    result = []\n",
        "    for review in reviews:\n",
        "      tokens = self._data_process(review[\"content\"], pos, filter, stemm, ngrams_range)\n",
        "      token_counter = Counter(tokens)\n",
        "      one_hot_encoding = np.zeros(len(self.vocabulary))\n",
        "      for token, count in token_counter.items():\n",
        "        one_hot_encoding[self.word2num[token]] = count\n",
        "      result.append(one_hot_encoding)\n",
        "    return result\n",
        "\n",
        "  def _create_vocabulary(self, reviews, pos=False, filter=None, stemm=False, ngrams_range=(1, 1)):\n",
        "    for review in reviews:\n",
        "      tokens = self._data_process(review[\"content\"], pos, filter, stemm, ngrams_range)\n",
        "      self.vocabulary |= set(tokens)\n",
        "    self.word2num = {token: num for num, token in enumerate(self.vocabulary)}\n",
        "\n",
        "  def fit_trasform(self, reviews, pos=False, stemm=False, ngrams_range=(1, 1)):\n",
        "    self._create_vocabulary(reviews, stemm, ngrams_range)\n",
        "    return self._transform(review, stemm, ngrams_range)\n",
        "\n",
        "  def apply_csr(self, encoded_list): # Compressed Sparse Row matrix\n",
        "    one_hot_matrix = np.stack(encoded_list)\n",
        "    return csr_matrix(one_hot_matrix)"
      ]
    },
    {
      "cell_type": "code",
      "source": [
        "from sklearn.svm import LinearSVC\n",
        "\n",
        "\n",
        "encoder = BowEncoder()\n",
        "encoder._create_vocabulary(reviews)\n",
        "\n",
        "folds = {i: [] for i in range(10)}\n",
        "\n",
        "for review in reviews:\n",
        "  folds[review[\"cv\"] % 10].append(review)\n",
        "\n",
        "accuracies = []\n",
        "\n",
        "for i in range(10):\n",
        "  train_reviews = [review for review in reviews if review not in folds[i]]\n",
        "  test_reviews = folds[i]\n",
        "\n",
        "  get_target = lambda review: int(review['sentiment'] == 'POS')\n",
        "  train_targets = np.array(list(map(get_target, train_reviews)))\n",
        "  test_targets = np.array(list(map(get_target, test_reviews)))\n",
        "\n",
        "  train_data = encoder.apply_csr(encoder._transform(train_reviews))\n",
        "  test_data = encoder.apply_csr(encoder._transform(test_reviews))\n",
        "\n",
        "  model = LinearSVC(max_iter=500)\n",
        "  model.fit(train_data, train_targets)\n",
        "  test_predictions = model.predict(test_data)\n",
        "\n",
        "  accuracies.append(accuracy_score(test_predictions, test_targets))\n",
        "\n",
        "print(f\"Accuracies each fold (stemm={stemm}, smooth={smooth}): {accuracies}\")\n",
        "avg_acc = sum(accuracies) / len(accuracies)\n",
        "print(f\"Average accuracy (stemm={stemm}, smooth={smooth}): {avg_acc}\")"
      ],
      "metadata": {
        "colab": {
          "base_uri": "https://localhost:8080/"
        },
        "id": "e-x8khiIieEE",
        "outputId": "a0f4f983-0d03-4a7f-b564-e3bfc8263d25"
      },
      "execution_count": 27,
      "outputs": [
        {
          "output_type": "stream",
          "name": "stderr",
          "text": [
            "/usr/local/lib/python3.10/dist-packages/sklearn/svm/_base.py:1235: ConvergenceWarning: Liblinear failed to converge, increase the number of iterations.\n",
            "  warnings.warn(\n",
            "/usr/local/lib/python3.10/dist-packages/sklearn/svm/_base.py:1235: ConvergenceWarning: Liblinear failed to converge, increase the number of iterations.\n",
            "  warnings.warn(\n",
            "/usr/local/lib/python3.10/dist-packages/sklearn/svm/_base.py:1235: ConvergenceWarning: Liblinear failed to converge, increase the number of iterations.\n",
            "  warnings.warn(\n",
            "/usr/local/lib/python3.10/dist-packages/sklearn/svm/_base.py:1235: ConvergenceWarning: Liblinear failed to converge, increase the number of iterations.\n",
            "  warnings.warn(\n",
            "/usr/local/lib/python3.10/dist-packages/sklearn/svm/_base.py:1235: ConvergenceWarning: Liblinear failed to converge, increase the number of iterations.\n",
            "  warnings.warn(\n",
            "/usr/local/lib/python3.10/dist-packages/sklearn/svm/_base.py:1235: ConvergenceWarning: Liblinear failed to converge, increase the number of iterations.\n",
            "  warnings.warn(\n",
            "/usr/local/lib/python3.10/dist-packages/sklearn/svm/_base.py:1235: ConvergenceWarning: Liblinear failed to converge, increase the number of iterations.\n",
            "  warnings.warn(\n",
            "/usr/local/lib/python3.10/dist-packages/sklearn/svm/_base.py:1235: ConvergenceWarning: Liblinear failed to converge, increase the number of iterations.\n",
            "  warnings.warn(\n",
            "/usr/local/lib/python3.10/dist-packages/sklearn/svm/_base.py:1235: ConvergenceWarning: Liblinear failed to converge, increase the number of iterations.\n",
            "  warnings.warn(\n"
          ]
        },
        {
          "output_type": "stream",
          "name": "stdout",
          "text": [
            "Accuracies each fold (stemm=True, smooth=True): [0.81, 0.795, 0.8, 0.84, 0.85, 0.815, 0.845, 0.85, 0.875, 0.84]\n",
            "Average accuracy (stemm=True, smooth=True): 0.8320000000000001\n"
          ]
        },
        {
          "output_type": "stream",
          "name": "stderr",
          "text": [
            "/usr/local/lib/python3.10/dist-packages/sklearn/svm/_base.py:1235: ConvergenceWarning: Liblinear failed to converge, increase the number of iterations.\n",
            "  warnings.warn(\n"
          ]
        }
      ]
    },
    {
      "cell_type": "markdown",
      "metadata": {
        "id": "ifXVWcK0V9qY"
      },
      "source": [
        "### POS disambiguation (2pts)\n",
        "\n",
        "Now add in part-of-speech features. You will find the\n",
        "movie review dataset has already been POS-tagged for you ([here](https://catalog.ldc.upenn.edu/docs/LDC99T42/tagguid1.pdf) you find the tagset). Try to\n",
        "replicate the results obtained by Pang et al. (2002).\n",
        "\n"
      ]
    },
    {
      "cell_type": "markdown",
      "metadata": {
        "id": "xA3I82o4oWGu"
      },
      "source": [
        "####(Q3.2) Replace your features with word+POS features, and report performance with the SVM. Use cross-validation to evaluate the classifier and compare the results with (Q3.1). Does part-of-speech information help? Explain why this may be the case. (1pt)\n"
      ]
    },
    {
      "cell_type": "code",
      "execution_count": 28,
      "metadata": {
        "id": "NOvjYe-t2Br6",
        "colab": {
          "base_uri": "https://localhost:8080/"
        },
        "outputId": "47995d28-b1e6-44ac-b25b-1f9ab24b1f7b"
      },
      "outputs": [
        {
          "output_type": "stream",
          "name": "stderr",
          "text": [
            "/usr/local/lib/python3.10/dist-packages/sklearn/svm/_base.py:1235: ConvergenceWarning: Liblinear failed to converge, increase the number of iterations.\n",
            "  warnings.warn(\n",
            "/usr/local/lib/python3.10/dist-packages/sklearn/svm/_base.py:1235: ConvergenceWarning: Liblinear failed to converge, increase the number of iterations.\n",
            "  warnings.warn(\n",
            "/usr/local/lib/python3.10/dist-packages/sklearn/svm/_base.py:1235: ConvergenceWarning: Liblinear failed to converge, increase the number of iterations.\n",
            "  warnings.warn(\n",
            "/usr/local/lib/python3.10/dist-packages/sklearn/svm/_base.py:1235: ConvergenceWarning: Liblinear failed to converge, increase the number of iterations.\n",
            "  warnings.warn(\n",
            "/usr/local/lib/python3.10/dist-packages/sklearn/svm/_base.py:1235: ConvergenceWarning: Liblinear failed to converge, increase the number of iterations.\n",
            "  warnings.warn(\n",
            "/usr/local/lib/python3.10/dist-packages/sklearn/svm/_base.py:1235: ConvergenceWarning: Liblinear failed to converge, increase the number of iterations.\n",
            "  warnings.warn(\n",
            "/usr/local/lib/python3.10/dist-packages/sklearn/svm/_base.py:1235: ConvergenceWarning: Liblinear failed to converge, increase the number of iterations.\n",
            "  warnings.warn(\n",
            "/usr/local/lib/python3.10/dist-packages/sklearn/svm/_base.py:1235: ConvergenceWarning: Liblinear failed to converge, increase the number of iterations.\n",
            "  warnings.warn(\n",
            "/usr/local/lib/python3.10/dist-packages/sklearn/svm/_base.py:1235: ConvergenceWarning: Liblinear failed to converge, increase the number of iterations.\n",
            "  warnings.warn(\n"
          ]
        },
        {
          "output_type": "stream",
          "name": "stdout",
          "text": [
            "Accuracies each fold (stemm=True, smooth=True): [0.825, 0.8, 0.805, 0.83, 0.855, 0.83, 0.88, 0.855, 0.845, 0.86]\n",
            "Average accuracy (stemm=True, smooth=True): 0.8385\n"
          ]
        },
        {
          "output_type": "stream",
          "name": "stderr",
          "text": [
            "/usr/local/lib/python3.10/dist-packages/sklearn/svm/_base.py:1235: ConvergenceWarning: Liblinear failed to converge, increase the number of iterations.\n",
            "  warnings.warn(\n"
          ]
        }
      ],
      "source": [
        "# YOUR CODE HERE\n",
        "encoder = BowEncoder()\n",
        "encoder._create_vocabulary(reviews, pos=True)\n",
        "\n",
        "folds = {i: [] for i in range(10)}\n",
        "\n",
        "for review in reviews:\n",
        "  folds[review[\"cv\"] % 10].append(review)\n",
        "\n",
        "accuracies = []\n",
        "\n",
        "for i in range(10):\n",
        "  train_reviews = [review for review in reviews if review not in folds[i]]\n",
        "  test_reviews = folds[i]\n",
        "\n",
        "  get_target = lambda review: int(review['sentiment'] == 'POS')\n",
        "  train_targets = np.array(list(map(get_target, train_reviews)))\n",
        "  test_targets = np.array(list(map(get_target, test_reviews)))\n",
        "\n",
        "  train_data = encoder.apply_csr(encoder._transform(train_reviews, pos=True))\n",
        "  test_data = encoder.apply_csr(encoder._transform(test_reviews, pos=True))\n",
        "\n",
        "  model = LinearSVC(max_iter=500)\n",
        "  model.fit(train_data, train_targets)\n",
        "  test_predictions = model.predict(test_data)\n",
        "\n",
        "  accuracies.append(accuracy_score(test_predictions, test_targets))\n",
        "\n",
        "print(f\"Accuracies each fold (stemm={stemm}, smooth={smooth}): {accuracies}\")\n",
        "avg_acc = sum(accuracies) / len(accuracies)\n",
        "print(f\"Average accuracy (stemm={stemm}, smooth={smooth}): {avg_acc}\")"
      ]
    },
    {
      "cell_type": "markdown",
      "metadata": {
        "id": "L0dt_oQupUNe"
      },
      "source": [
        "*Write your answer here.*"
      ]
    },
    {
      "cell_type": "markdown",
      "metadata": {
        "id": "Su-3w87eMW0w"
      },
      "source": [
        "#### (Q3.3) Discard all closed-class words from your data (keep only nouns, verbs, adjectives, and adverbs), and report performance. Does this help? Use cross-validation to evaluate the classifier and compare the results with (Q3.2). Are closed-class words detrimental to the classifier? Explain why this may be the case. (1pt)"
      ]
    },
    {
      "cell_type": "code",
      "execution_count": 29,
      "metadata": {
        "id": "CCUPlPozCYUX",
        "colab": {
          "base_uri": "https://localhost:8080/"
        },
        "outputId": "ab9374dc-0625-4c9d-c388-580d9f036ad4"
      },
      "outputs": [
        {
          "output_type": "stream",
          "name": "stderr",
          "text": [
            "/usr/local/lib/python3.10/dist-packages/sklearn/svm/_base.py:1235: ConvergenceWarning: Liblinear failed to converge, increase the number of iterations.\n",
            "  warnings.warn(\n",
            "/usr/local/lib/python3.10/dist-packages/sklearn/svm/_base.py:1235: ConvergenceWarning: Liblinear failed to converge, increase the number of iterations.\n",
            "  warnings.warn(\n",
            "/usr/local/lib/python3.10/dist-packages/sklearn/svm/_base.py:1235: ConvergenceWarning: Liblinear failed to converge, increase the number of iterations.\n",
            "  warnings.warn(\n",
            "/usr/local/lib/python3.10/dist-packages/sklearn/svm/_base.py:1235: ConvergenceWarning: Liblinear failed to converge, increase the number of iterations.\n",
            "  warnings.warn(\n",
            "/usr/local/lib/python3.10/dist-packages/sklearn/svm/_base.py:1235: ConvergenceWarning: Liblinear failed to converge, increase the number of iterations.\n",
            "  warnings.warn(\n",
            "/usr/local/lib/python3.10/dist-packages/sklearn/svm/_base.py:1235: ConvergenceWarning: Liblinear failed to converge, increase the number of iterations.\n",
            "  warnings.warn(\n",
            "/usr/local/lib/python3.10/dist-packages/sklearn/svm/_base.py:1235: ConvergenceWarning: Liblinear failed to converge, increase the number of iterations.\n",
            "  warnings.warn(\n"
          ]
        },
        {
          "output_type": "stream",
          "name": "stdout",
          "text": [
            "Accuracies each fold: [0.81, 0.805, 0.835, 0.84, 0.865, 0.845, 0.885, 0.85, 0.855, 0.825]\n",
            "Average accuracy: 0.8414999999999999\n"
          ]
        }
      ],
      "source": [
        "# YOUR CODE HERE\n",
        "filter = ['NN', 'VB', 'JJ', 'RB']\n",
        "encoder = BowEncoder()\n",
        "encoder._create_vocabulary(reviews, pos=True, filter=filter)\n",
        "\n",
        "folds = {i: [] for i in range(10)}\n",
        "\n",
        "for review in reviews:\n",
        "  folds[review[\"cv\"] % 10].append(review)\n",
        "\n",
        "accuracies = []\n",
        "\n",
        "for i in range(10):\n",
        "  train_reviews = [review for review in reviews if review not in folds[i]]\n",
        "  test_reviews = folds[i]\n",
        "\n",
        "  get_target = lambda review: int(review['sentiment'] == 'POS')\n",
        "  train_targets = np.array(list(map(get_target, train_reviews)))\n",
        "  test_targets = np.array(list(map(get_target, test_reviews)))\n",
        "\n",
        "  train_data = encoder.apply_csr(encoder._transform(train_reviews, pos=True, filter=filter))\n",
        "  test_data = encoder.apply_csr(encoder._transform(test_reviews, pos=True, filter=filter))\n",
        "\n",
        "  model = LinearSVC(max_iter=1000)\n",
        "  model.fit(train_data, train_targets)\n",
        "  test_predictions = model.predict(test_data)\n",
        "\n",
        "  accuracies.append(accuracy_score(test_predictions, test_targets))\n",
        "\n",
        "print(f\"Accuracies each fold: {accuracies}\")\n",
        "avg_acc = sum(accuracies) / len(accuracies)\n",
        "print(f\"Average accuracy: {avg_acc}\")"
      ]
    },
    {
      "cell_type": "markdown",
      "metadata": {
        "id": "YaxCVrs8pWSp"
      },
      "source": [
        "*Write your answer here.*"
      ]
    },
    {
      "cell_type": "markdown",
      "metadata": {
        "id": "nfwqOciAl2No"
      },
      "source": [
        "# (4) Discussion (max. 500 words). (5pts)\n",
        "\n",
        "Based on your experiments, what are the effective features and techniques in sentiment analysis? What information do different features encode?\n",
        "Why is this important? What are the limitations of these features and techniques?\n",
        "\n"
      ]
    },
    {
      "cell_type": "markdown",
      "metadata": {
        "id": "ZYuse5WLmekZ"
      },
      "source": [
        "*Write your answer here in up to 500 words (-0.25pt for >50 extra words, -0.5 points for >100 extra words, ...)*.\n"
      ]
    },
    {
      "cell_type": "markdown",
      "source": [
        ">**Naive Bayes**:\n",
        "In Naive Bayes approach, we use effective N-gram features and techniques such as smoothing, stemming and cross validation. Unigram features capture individual words, which carry the sentiment such as \"brilliant\", \"terrible\", but also lack context information. N-grams such as Bigrams and Trigrams capture sequence of words, preserving the order of words and some context information, which helps to identify phrases and sentiment such as \"not bad\", but exponentially increases the feature space, leading to high computational cost and potential overfitting. Stemming captures the root form of the words, which helps to reduce the vocabulary size and also improves the generalization ability of the model. Smoothing and the use of unknown token take care of the probability of the unseen data, avoiding 0 probability but don't carry the sentiment information of the unseen data. Cross validation makes full use of the dataset, suitable for especially small dateset but increases computation. In conclusion, NB approach is simple to implement and fast to train but fails to capture context sentiment due to its strong independent assumption and is also sensitive to imbalanced data.  "
      ],
      "metadata": {
        "id": "mNs6KqdLLRia"
      }
    },
    {
      "cell_type": "markdown",
      "metadata": {
        "id": "iwaKwfWQhRk_"
      },
      "source": [
        "# Submission\n"
      ]
    },
    {
      "cell_type": "code",
      "execution_count": null,
      "metadata": {
        "id": "aOUeaET5ijk-"
      },
      "outputs": [],
      "source": [
        "# Write your names and student numbers here:\n",
        "# Xin Zhou 15576493\n",
        "# Student 2 #12345"
      ]
    },
    {
      "cell_type": "markdown",
      "metadata": {
        "id": "3A9K-H6Tii3X"
      },
      "source": [
        "**That's it!**\n",
        "\n",
        "- Check if you answered all questions fully and correctly.\n",
        "- Download your completed notebook using `File -> Download .ipynb`\n",
        "- Check if your answers are all included in the file you submit.\n",
        "- Submit your .ipynb file via *Canvas*. One submission per group."
      ]
    }
  ],
  "metadata": {
    "accelerator": "GPU",
    "colab": {
      "gpuType": "T4",
      "provenance": []
    },
    "kernelspec": {
      "display_name": "Python 3",
      "name": "python3"
    }
  },
  "nbformat": 4,
  "nbformat_minor": 0
}